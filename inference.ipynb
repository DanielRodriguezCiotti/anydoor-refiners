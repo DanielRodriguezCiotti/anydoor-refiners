{
 "cells": [
  {
   "cell_type": "code",
   "execution_count": 1,
   "metadata": {},
   "outputs": [],
   "source": [
    "import torch\n",
    "torch.set_num_threads(2)\n",
    "# from huggingface_hub import hf_hub_download\n",
    "# from safetensors import\n"
   ]
  },
  {
   "cell_type": "code",
   "execution_count": 2,
   "metadata": {},
   "outputs": [],
   "source": [
    "from anydoor_refiners.model import AnyDoor, AnydoorAutoencoder\n",
    "from anydoor_refiners.dinov2 import DINOv2Encoder\n",
    "from anydoor_refiners.unet import UNet\n",
    "from anydoor_refiners.controlnet import ControlNet\n",
    "\n",
    "lda = AnydoorAutoencoder(device=\"cuda\", dtype=torch.float16)\n",
    "encoder = DINOv2Encoder(device=\"cuda\",dtype=torch.float16)\n",
    "unet = UNet(4,device=\"cuda\",dtype=torch.float16)\n",
    "controlnet = ControlNet(4,device=\"cuda\",dtype=torch.float16)\n",
    "anydoor = AnyDoor(\n",
    "    unet=unet,\n",
    "    lda=lda,\n",
    "    control_model=controlnet,\n",
    "    object_encoder=encoder,\n",
    "    device=\"cuda\",\n",
    "    dtype=torch.float16,\n",
    ")"
   ]
  },
  {
   "cell_type": "code",
   "execution_count": null,
   "metadata": {},
   "outputs": [],
   "source": [
    "# anydoor.unet.load_from_safetensors(\"../ckpt/unet_refiners.safetensors\")\n",
    "# anydoor.control_model.load_from_safetensors(\"../ckpt/controlnet.safetensors\")\n",
    "# anydoor.object_encoder.load_from_safetensors(\"../ckpt/encoder.safetensors\")\n",
    "# anydoor.lda.load_from_safetensors(\n",
    "#     hf_hub_download(\n",
    "#         repo_id=\"refiners/sd15.autoencoder\",\n",
    "#         filename=\"model.safetensors\",\n",
    "#     )\n",
    "# )"
   ]
  },
  {
   "cell_type": "code",
   "execution_count": 8,
   "metadata": {},
   "outputs": [],
   "source": [
    "# hyperparameters\n",
    "seed = 42\n",
    "uncod_scale = 5.0\n",
    "num_inference_steps = 50\n",
    "anydoor.set_inference_steps(num_inference_steps, first_step=0)"
   ]
  },
  {
   "cell_type": "code",
   "execution_count": 26,
   "metadata": {},
   "outputs": [],
   "source": [
    "# inserted_object_img : torch.Tensor = ...\n",
    "# background_control_img : torch.Tensor = ...\n",
    "\n",
    "# object, control = preprocessing(inserted_object_img,background_control_img)\n",
    "object_image = torch.randn(1, 3, 224, 224,device=\"cuda\",dtype=torch.float16)\n",
    "control_image = torch.randn(1, 4, 256, 256,device=\"cuda\",dtype=torch.float16)"
   ]
  },
  {
   "cell_type": "code",
   "execution_count": null,
   "metadata": {},
   "outputs": [],
   "source": [
    "from refiners.fluxion.utils import manual_seed, no_grad\n",
    "from tqdm import tqdm\n",
    "\n",
    "with no_grad():  \n",
    "    manual_seed(seed)\n",
    "    object_embedding = anydoor.object_encoder(object_image)\n",
    "    negative_object_embedding = anydoor.object_encoder(torch.zeros((object_image.shape[0], 3, 224, 224),device=\"cuda\",dtype=torch.float16))\n",
    "    x = anydoor.init_latents((256, 256))\n",
    "\n",
    "    # diffusion denoising process\n",
    "    for step in tqdm(anydoor.steps):\n",
    "        x = anydoor.forward(\n",
    "            x,\n",
    "            step=step,\n",
    "            control_background_image= control_image,\n",
    "            object_embedding= object_embedding,\n",
    "            negative_object_embedding= negative_object_embedding,\n",
    "            condition_scale= 5.0\n",
    "        )\n",
    "    predicted_image = anydoor.lda.latents_to_image(x)\n",
    "\n"
   ]
  },
  {
   "cell_type": "code",
   "execution_count": 28,
   "metadata": {},
   "outputs": [
    {
     "name": "stdout",
     "output_type": "stream",
     "text": [
      "torch.Size([1, 320, 32, 32]) torch.Size([1, 320, 32, 32])\n",
      "torch.Size([1, 320, 32, 32]) torch.Size([1, 320, 32, 32])\n",
      "torch.Size([1, 320, 32, 32]) torch.Size([1, 320, 32, 32])\n",
      "torch.Size([1, 320, 16, 16]) torch.Size([1, 320, 16, 16])\n",
      "torch.Size([1, 640, 16, 16]) torch.Size([1, 640, 16, 16])\n",
      "torch.Size([1, 640, 16, 16]) torch.Size([1, 640, 16, 16])\n",
      "torch.Size([1, 640, 8, 8]) torch.Size([1, 640, 8, 8])\n",
      "torch.Size([1, 1280, 8, 8]) torch.Size([1, 1280, 8, 8])\n",
      "torch.Size([1, 1280, 8, 8]) torch.Size([1, 1280, 8, 8])\n",
      "torch.Size([1, 1280, 4, 4]) torch.Size([1, 1280, 4, 4])\n",
      "torch.Size([1, 1280, 4, 4]) torch.Size([1, 1280, 4, 4])\n",
      "torch.Size([1, 1280, 4, 4]) torch.Size([1, 1280, 4, 4])\n",
      "torch.Size([1, 1280, 4, 4]) torch.Size([1, 1280, 4, 4])\n"
     ]
    }
   ],
   "source": [
    "for i,t in enumerate(control_dino):\n",
    "    print(t.shape, control[i].shape)"
   ]
  },
  {
   "cell_type": "code",
   "execution_count": 7,
   "metadata": {},
   "outputs": [],
   "source": [
    "with torch.no_grad():       \n",
    "    x = torch.randn(1, 4, 32, 32, dtype=torch.float16, device=\"cuda\")\n",
    "    timestep = torch.full((1,), 1, dtype=torch.long, device=\"cuda\")\n",
    "    object_embedding = torch.randn(1, 1, 1024, dtype=torch.float16, device=\"cuda\")\n",
    "    control = torch.load(\"tests/tensors/control_features.pt\",weights_only=True)\n",
    "    control = [t.to(\"cuda\").to(torch.float16) for t in control]\n",
    "    anydoor.unet.set_timestep(timestep)\n",
    "    anydoor.unet.set_dinov2_object_embedding(object_embedding)\n",
    "    anydoor.unet.set_control_residuals(control)\n",
    "    y = anydoor.unet(x)"
   ]
  },
  {
   "cell_type": "code",
   "execution_count": 11,
   "metadata": {},
   "outputs": [],
   "source": [
    "with torch.no_grad():\n",
    "    timestep = anydoor.solver.timesteps[1].unsqueeze(dim=0)\n",
    "\n",
    "    anydoor.set_unet_context(\n",
    "            timestep=timestep,\n",
    "            object_embedding=object_embedding,\n",
    "            control_features=control,\n",
    "        )\n",
    "    anydoor.unet(x)"
   ]
  },
  {
   "cell_type": "code",
   "execution_count": 15,
   "metadata": {},
   "outputs": [
    {
     "data": {
      "text/plain": [
       "13"
      ]
     },
     "execution_count": 15,
     "metadata": {},
     "output_type": "execute_result"
    }
   ],
   "source": [
    "len(control)"
   ]
  },
  {
   "cell_type": "code",
   "execution_count": 16,
   "metadata": {},
   "outputs": [
    {
     "data": {
      "text/plain": [
       "tensor([961], device='cuda:0')"
      ]
     },
     "execution_count": 16,
     "metadata": {},
     "output_type": "execute_result"
    }
   ],
   "source": [
    "timestep"
   ]
  }
 ],
 "metadata": {
  "kernelspec": {
   "display_name": ".venv",
   "language": "python",
   "name": "python3"
  },
  "language_info": {
   "codemirror_mode": {
    "name": "ipython",
    "version": 3
   },
   "file_extension": ".py",
   "mimetype": "text/x-python",
   "name": "python",
   "nbconvert_exporter": "python",
   "pygments_lexer": "ipython3",
   "version": "3.11.10"
  }
 },
 "nbformat": 4,
 "nbformat_minor": 2
}
