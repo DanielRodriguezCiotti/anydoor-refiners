{
 "cells": [
  {
   "cell_type": "code",
   "execution_count": null,
   "metadata": {},
   "outputs": [],
   "source": [
    "import torch\n",
    "from huggingface_hub import hf_hub_download\n",
    "from safetensors import\n",
    "from anydoor_refiners.model import AnyDoor"
   ]
  },
  {
   "cell_type": "code",
   "execution_count": null,
   "metadata": {},
   "outputs": [],
   "source": [
    "anydoor = AnyDoor(\n",
    "    device=\"cuda\" if torch.cuda.is_available() else \"cpu\",\n",
    "    dtype=torch.float16,\n",
    ")"
   ]
  },
  {
   "cell_type": "code",
   "execution_count": null,
   "metadata": {},
   "outputs": [],
   "source": [
    "anydoor.unet.load_from_safetensors(\"../ckpt/unet_refiners.safetensors\")\n",
    "anydoor.control_model.load_from_safetensors(\"../ckpt/controlnet.safetensors\")\n",
    "anydoor.object_encoder.load_from_safetensors(\"../ckpt/encoder.safetensors\")\n",
    "anydoor.lda.load_from_safetensors(\n",
    "    hf_hub_download(\n",
    "        repo_id=\"refiners/sd15.autoencoder\",\n",
    "        filename=\"model.safetensors\",\n",
    "    )\n",
    ")"
   ]
  },
  {
   "cell_type": "code",
   "execution_count": null,
   "metadata": {},
   "outputs": [],
   "source": [
    "# hyperparameters\n",
    "seed = 42\n",
    "uncod_scale = 5.0\n",
    "num_inference_steps = 50\n",
    "anydoor.set_inference_steps(num_inference_steps, first_step=0)"
   ]
  },
  {
   "cell_type": "code",
   "execution_count": null,
   "metadata": {},
   "outputs": [],
   "source": [
    "inserted_object_img : torch.Tensor = ...\n",
    "background_control_img : torch.Tensor = ...\n",
    "\n",
    "object, control = preprocessing(inserted_object_img,background_control_img)"
   ]
  },
  {
   "cell_type": "code",
   "execution_count": null,
   "metadata": {},
   "outputs": [],
   "source": [
    "from refiners.fluxion.utils import manual_seed, no_grad\n",
    "from tqdm import tqdm\n",
    "\n",
    "with no_grad():  \n",
    "    manual_seed(seed)\n",
    "    conditionning = anydoor.compute_conditionning(object,control)\n",
    "    x = anydoor.init_latents((64, 64))\n",
    "\n",
    "    # diffusion denoising process\n",
    "    for step in tqdm(anydoor.steps):\n",
    "        x = anydoor.forward(\n",
    "            x,\n",
    "            step=step,\n",
    "            conditionning=conditionning,\n",
    "            condition_scale=uncod_scale\n",
    "        )\n",
    "    predicted_image = anydoor.lda.latents_to_image(x)\n",
    "\n",
    "predicted_image.save(\"vanilla_sdxl.png\")"
   ]
  }
 ],
 "metadata": {
  "kernelspec": {
   "display_name": ".venv",
   "language": "python",
   "name": "python3"
  },
  "language_info": {
   "name": "python",
   "version": "3.11.10"
  }
 },
 "nbformat": 4,
 "nbformat_minor": 2
}
